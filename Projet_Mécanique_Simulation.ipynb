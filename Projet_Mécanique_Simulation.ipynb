{
 "cells": [
  {
   "cell_type": "markdown",
   "metadata": {},
   "source": [
    "## Les paramêtres de notre simulation:"
   ]
  },
  {
   "cell_type": "code",
   "execution_count": null,
   "metadata": {
    "vscode": {
     "languageId": "plaintext"
    }
   },
   "outputs": [],
   "source": [
    "import numpy as np\n",
    "import matplotlib.pyplot as plt"
   ]
  },
  {
   "cell_type": "code",
   "execution_count": null,
   "metadata": {
    "vscode": {
     "languageId": "plaintext"
    }
   },
   "outputs": [],
   "source": [
    "Mv_air=1.225\n",
    "g=9.81\n",
    "accelerations_moyenne=[5.1,5,5.3,5.2,5.8,5]\n",
    "masses=[1760,1615,1498,1385,1540,1600]\n",
    "Usurf=0.1\n",
    "Cx=[0.38,0.29,0.35,0.28,0.34,0.28]\n",
    "Cz=0.3\n",
    "Sx=[2.6325,2.2987,2.444,2.1525,2.4344,2.6788]\n",
    "Sz=[10.296,8.1631,8.8736,7.525,8.234,8.1631]\n",
    "NOS=False\n",
    "Ailes=False\n",
    "Rank=int(input(\"Entrez le numéro de la voiture: 1 pour la Dodge,2 pour la Toyota,3 pour la Chevrolet,4 pour la Mazda, 5 pour la Nissan, 6 pour la Mitsubichi\", ))-1\n",
    "Indice_accessoires=int(input(\"entrez 1 pour les ailes, 2 pour la nitro, 3 si les deux sont utilisés, et n'importe quoi d'autre si aucun des deux ne sont utilisés\", ))\n",
    "if(Indice_accessoires==1 or Indice_accessoires==2 or Indice_accessoires==3):\n",
    "    if(Indice_accessoires==3):\n",
    "        NOS=True\n",
    "        Ailes=True\n",
    "    elif(Indice_accessoires==2):\n",
    "        NOS=True\n",
    "    else:\n",
    "        Ailes=True\n",
    "        \n",
    "        \n",
    "#Définition d'un pas temporel\n",
    "Pas_temporel=0.001\n",
    "\n",
    "# Attribution de la nitro à une partie précise de la course\n",
    "Partie_Nitro=0\n",
    "if(NOS==True):\n",
    "    Partie_Nitro=int(input(\"Sur qu'elle partie de la piste, la nitro est elle utilisée (1 pour la pente, 2 pour le looping, 3 pour la fin de piste)\", ))\n",
    "\n",
    "#Modification de la masse, du coefficient de portance , de trainé, lié aux ailes\n",
    "if(Ailes==True):\n",
    "    for i in range(0,len(masses)):\n",
    "        masses[i]+=45\n",
    "        Sz[i]+=0.8\n",
    "        Cx[i]=Cx[i]*0.95\n",
    "        \n",
    "    Cz=Cz*1.1\n",
    "#Fin du paramètrage   "
   ]
  },
  {
   "cell_type": "markdown",
   "metadata": {},
   "source": [
    "# Pente"
   ]
  },
  {
   "cell_type": "code",
   "execution_count": null,
   "metadata": {
    "vscode": {
     "languageId": "plaintext"
    }
   },
   "outputs": [],
   "source": [
    "\n",
    "# En utilisant la méthode d'euler et un pas petit, on est capable de fournir une analyse précise de notre vitesse en bas de pente\n",
    "#Rappel: Vn+1=Vn+deltaV*pas\n",
    "\n",
    "#On définit le multiplicateur boost lié à la nitro, si on l'a séléctionné pour cette partie boost augmente de 30% l'accélération moyenne de la voiture(a*1.3)\n",
    "if(Partie_Nitro==1):\n",
    "    boost=1.3\n",
    "else:\n",
    "    boost=1\n",
    "\n",
    "angle=3.69*np.pi/180\n",
    "distance_de_fin=31\n",
    "vitesse=0\n",
    "distance=0\n",
    "indice_temps_pente=0\n",
    "\n",
    "\n",
    "while(distance<distance_de_fin):#Tant que nous ne sommes pas au bout de la piste:\n",
    "    #Calcul de la variation de vitesse : Vn+1=Vn+(gsin(a)-ugcos(a)-(p*Cx*surface*Vn²/2m)+ am)*Pas_temporel\n",
    "    vitesse=vitesse+(accelerations_moyenne[Rank]*boost+g*np.sin(angle)-Usurf*g*np.cos(angle)-((Mv_air*Cx[Rank]*Sx[Rank]*vitesse*vitesse)/(2*masses[Rank])))*Pas_temporel\n",
    "    #Calcul de la distance actuelle\n",
    "    distance=distance+(vitesse*Pas_temporel)\n",
    "    #Le compteur de temps\n",
    "    indice_temps_pente+=Pas_temporel\n",
    "\n",
    "vitesse_fin_pente=vitesse\n",
    "\n",
    "\n",
    "print(\"La vitesse en fin de piste est:\",vitesse_fin_pente,\"m/s\")#La vitesse finale\n",
    "print(\"La fin de piste fut atteinte en\",indice_temps_pente,\"Secondes\")#La durée nécessaire pour traverser la pente"
   ]
  },
  {
   "cell_type": "markdown",
   "metadata": {},
   "source": [
    "# Looping"
   ]
  },
  {
   "cell_type": "code",
   "execution_count": null,
   "metadata": {
    "vscode": {
     "languageId": "plaintext"
    }
   },
   "outputs": [],
   "source": [
    "Distance_initiale=0\n",
    "vitesse=12.773#vitesse_fin_pente\n",
    "R=6 #Rayon de notre looping\n",
    "Distance_max=2*np.pi*R #Le périmêtre de notre looping\n",
    "angle=0 #On crée une variable qui suivra notre angle au fur et à mesure de notre tour\n",
    "indice_temps_looping=0\n",
    "\n",
    "if(Partie_Nitro==2):\n",
    "    boost=1.3\n",
    "else:\n",
    "    boost=1\n",
    "\n",
    "#On crée la liste qui nous permet de stocker les valeurs de la vitesse\n",
    "Liste_vitesse=[]\n",
    "#On crée la liste qui stocke le temps(On ne fait pas cela directement car on ne sait pas combient de temps dure notre looping)\n",
    "Liste_suivi_temporel=[]\n",
    "\n",
    "while(Distance_initiale<Distance_max):\n",
    "    angle=(Distance_initiale/Distance_max)*2*np.pi # En effet, comme on part du principe que notre looping est un cercle parfait, il est possible de faire un rapport entre la position actuelle et le périmêtre pour obtenir l'angle théta\n",
    "    # Calcul de la vitesse en utilisant la méthode de Euler(Seul l'accélération tengentielle est mesuré):\n",
    "    vitesse=vitesse+(-g*np.sin(angle)-Usurf*((vitesse*vitesse/R)+g*np.cos(angle))+accelerations_moyenne[Rank]*boost-(Mv_air*Cx[Rank]*Sx[Rank]*vitesse*vitesse)/(2*masses[Rank]))*Pas_temporel\n",
    "    Liste_vitesse.append(vitesse)\n",
    "    Distance_initiale=Distance_initiale+vitesse*Pas_temporel\n",
    "    indice_temps_looping+=Pas_temporel\n",
    "    Liste_suivi_temporel.append(indice_temps_looping)\n",
    "    if(Distance_initiale/(Distance_max/2)<1.0001) and (Distance_initiale/(Distance_max/2)>0.9999):\n",
    "        if(vitesse>= np.sqrt(g*R)):\n",
    "            print(\"looping passé avec succès\",indice_temps_looping)\n",
    "        else:\n",
    "            print(\"Crash\",indice_temps_looping)\n",
    "       \n",
    "vitesse_fin_looping=vitesse\n",
    "\n",
    "print(\"La vitesse en fin de looping est de\",vitesse_fin_looping,\"m/s\")\n",
    "print(\"Le looping a été complété en\",indice_temps_looping,\"Secondes\")\n",
    "\n",
    "#Calcul de la vitesse nécessaire à compléter le looping\n",
    "\n",
    "\n",
    "#ON affiche l'évolution en fonction du temps\n",
    "plt.plot(Liste_suivi_temporel,Liste_vitesse)\n",
    "plt.xlabel(\"Temps en $s$\")\n",
    "plt.ylabel(\"Vitesse en $m/s$\")\n",
    "plt.title(\"Evolution de la vitesse en fonction du temps\")\n",
    "plt.show()"
   ]
  },
  {
   "cell_type": "markdown",
   "metadata": {},
   "source": [
    "# Ravin"
   ]
  },
  {
   "cell_type": "code",
   "execution_count": null,
   "metadata": {
    "vscode": {
     "languageId": "plaintext"
    }
   },
   "outputs": [],
   "source": [
    "# Attributions des paramêtres\n",
    "vitesse_en_x=vitesse_fin_looping\n",
    "vitesse_en_y=0\n",
    "distance_initiale=0\n",
    "distance_max=9\n",
    "hauteur=1\n",
    "indice_temps_ravin=0\n",
    "\n",
    "# Créations des listes qui suivront la trajectoire du véhicule\n",
    "Liste_distances=[]\n",
    "Liste_hauteurs=[]\n",
    "\n",
    "\n",
    "while(hauteur>0):# Tant que nous ne touchons pas le sol\n",
    "    # Calcul de la vitesse et de la position sur l'axe x avec la méthode de Euler: Vn+1=Vn+(-(Mv_air*Sx*Cx*vitesse_en_x²)/(2*masses)*Pas_temporel\n",
    "    vitesse_en_x=vitesse_en_x+(-(Mv_air*Sx[Rank]*Cz*vitesse_en_x*vitesse_en_x)/(2*masses[Rank]))*Pas_temporel\n",
    "    distance_initiale=distance_initiale+vitesse_en_x*Pas_temporel\n",
    "    Liste_distances.append(distance_initiale)\n",
    "    # Calcul de la vitesse et de la position sur l'axe y avec la méthode de Euler: Vn+1=Vn+(-g-(Mv_air*Cz*Sz*vitesse_en_y²)/(2*masses)*Pas_temporel\n",
    "    vitesse_en_y=vitesse_en_y+(-g-(Mv_air*Sz[Rank]*Cz*vitesse_en_y*vitesse_en_y)/(2*masses[Rank]))*Pas_temporel\n",
    "    hauteur=hauteur+vitesse_en_y*Pas_temporel\n",
    "    Liste_hauteurs.append(hauteur)\n",
    "    indice_temps_ravin+=Pas_temporel\n",
    "\n",
    "if(distance_initiale>9):\n",
    "    print(\"Voiture arrive à passer le ravin, avec un dépassement de\",distance_initiale-9)\n",
    "else:\n",
    "    print(\"C'est le crash à\",9-distance_initiale,\"Mètres de la fin de la partie\")\n",
    "\n",
    "    \n",
    "print(\"La vitesse de la voiture à la fin du ravin est de\",vitesse_en_x,\"m/s\")\n",
    "print(\"Ce segment à pris\",indice_temps_ravin,\"Secondes\")\n",
    "\n",
    "# On fait une représentation graphique de la trajectoire\n",
    "print(\"Tracé de la trajectoire de notre véhicule:\")\n",
    "\n",
    "plt.plot(Liste_distances,Liste_hauteurs)\n",
    "plt.xlabel(\"Distance en mètres\")\n",
    "plt.ylabel(\"Hauteur en mètres\")\n",
    "plt.title(\"Représentation de la trajectoire\")\n",
    "plt.xlim(0,10)\n",
    "plt.ylim(0,10)\n",
    "plt.show()"
   ]
  },
  {
   "cell_type": "markdown",
   "metadata": {},
   "source": [
    "# Fin de piste"
   ]
  },
  {
   "cell_type": "code",
   "execution_count": null,
   "metadata": {
    "vscode": {
     "languageId": "plaintext"
    }
   },
   "outputs": [],
   "source": [
    "vitesse=vitesse_en_x #On reprends la vitesse à la fin du ravin\n",
    "distance_initiale=distance_initiale-9 # On sait que si la voiture réussit le saut, elle ne retombera pas précisément après 9 mêtres.\n",
    "indice_temps_fin=0\n",
    "distance_finale_fin=10\n",
    "\n",
    "if(Partie_Nitro==3):\n",
    "    boost=1.3\n",
    "else:\n",
    "    boost=1\n",
    "\n",
    "#Calcul de la distance et de la durée de la partie de circuit\n",
    "while(distance_initiale < distance_finale_fin):#Tant que nous ne sommes pas au bout de la piste:\n",
    "    #Calcul de la variation de vitesse : Vn+1=Vn+(accelerations_moyenne-Usurf*g-(Mv_air*Sx*Cx*vitesse²/2masses)*Pas_temporel\n",
    "    vitesse=vitesse+(accelerations_moyenne[Rank]*boost-Usurf*g-(Mv_air*Sx[Rank]*Cx[Rank]*vitesse*vitesse/(2*masses[Rank])))*Pas_temporel\n",
    "    #Calcul de la distance actuelle\n",
    "    distance_initiale=distance_initiale+(vitesse*Pas_temporel)\n",
    "    #Le compteur de temps\n",
    "    indice_temps_fin+=Pas_temporel\n",
    "\n",
    "print(\"La vitesse en fin de piste est:\",vitesse,\"m/s\")#La vitesse finale\n",
    "print(\"La fin de piste fut atteinte en\",indice_temps_fin,\"Secondes\")#La durée nécessaire pour traverser la pente\n",
    "\n",
    "#Durée totale du circuit\n",
    "print(\"La durée totale du circuit avec le modèle\",Rank+1,\"Est de\",indice_temps_pente+indice_temps_looping+indice_temps_ravin+indice_temps_fin,\"Secondes\")"
   ]
  },
  {
   "cell_type": "markdown",
   "metadata": {},
   "source": [
    "# Fin de piste"
   ]
  },
  {
   "cell_type": "code",
   "execution_count": null,
   "metadata": {
    "vscode": {
     "languageId": "plaintext"
    }
   },
   "outputs": [],
   "source": [
    "vitesse=vitesse_en_x #On reprends la vitesse à la fin du ravin\n",
    "distance_initiale=distance_initiale-9 # On sait que si la voiture réussit le saut, elle ne retombera pas précisément après 9 mêtres.\n",
    "indice_temps_fin=0\n",
    "distance_finale_fin=10\n",
    "\n",
    "if(Partie_Nitro==3):\n",
    "    boost=1.3\n",
    "else:\n",
    "    boost=1\n",
    "\n",
    "#Calcul de la distance et de la durée de la partie de circuit\n",
    "while(distance_initiale < distance_finale_fin):#Tant que nous ne sommes pas au bout de la piste:\n",
    "    #Calcul de la variation de vitesse : Vn+1=Vn+(accelerations_moyenne-Usurf*g-(Mv_air*Sx*Cx*vitesse²/2masses)*Pas_temporel\n",
    "    vitesse=vitesse+(accelerations_moyenne[Rank]*boost-Usurf*g-(Mv_air*Sx[Rank]*Cx[Rank]*vitesse*vitesse/(2*masses[Rank])))*Pas_temporel\n",
    "    #Calcul de la distance actuelle\n",
    "    distance_initiale=distance_initiale+(vitesse*Pas_temporel)\n",
    "    #Le compteur de temps\n",
    "    indice_temps_fin+=Pas_temporel\n",
    "\n",
    "print(\"La vitesse en fin de piste est:\",vitesse,\"m/s\")#La vitesse finale\n",
    "print(\"La fin de piste fut atteinte en\",indice_temps_fin,\"Secondes\")#La durée nécessaire pour traverser la pente\n",
    "\n",
    "#Durée totale du circuit\n",
    "print(\"La durée totale du circuit avec le modèle\",Rank+1,\"Est de\",indice_temps_pente+indice_temps_looping+indice_temps_ravin+indice_temps_fin,\"Secondes\")"
   ]
  },
  {
   "cell_type": "markdown",
   "metadata": {},
   "source": [
    "# Vitesse minimale en début de looping\n",
    "\n",
    "### Bien que des formules existent, il est mieux d'utiliser notre simulation, qui prends les frottements,\n",
    "### comme on connait la formule qui nous donne la vitesse minimale en haut du looping, il faut faire la simulation dans le sens inverse"
   ]
  },
  {
   "cell_type": "code",
   "execution_count": null,
   "metadata": {
    "vscode": {
     "languageId": "plaintext"
    }
   },
   "outputs": [],
   "source": [
    "R=6\n",
    "distance_initiale=np.pi*R\n",
    "distance_finale =0\n",
    "distance_looping=2*np.pi*R\n",
    "angle=np.pi #On commence en haut du looping\n",
    "vitesse=-np.sqrt(g*R) #D'après la formule trouvé lors du livrable 2 la vitesse est stratégiquement définie comme négative\n",
    "duration=0\n",
    "\n",
    "Vit=[]\n",
    "t=[]\n",
    "\n",
    "while(distance_initiale>distance_finale):#On fait une accélération inverse à précédamment, il nous suffit simplement de changer de signe de l'addition vers la soustraction et le tour est joué, nous accédons au passé\n",
    "    angle=(distance_initiale/distance_looping)*2*np.pi\n",
    "    vitesse=vitesse+(-g*np.sin(angle)-Usurf*((vitesse*vitesse/R)+g*np.cos(angle))+accelerations_moyenne[Rank]*boost-(Mv_air*Cx[Rank]*Sx[Rank]*vitesse*vitesse)/(2*masses[Rank]))*Pas_temporel\n",
    "    Vit.append(vitesse)\n",
    "    distance_initiale=distance_initiale+vitesse*Pas_temporel\n",
    "    duration+=Pas_temporel\n",
    "    t.append(duration)\n",
    "    \n",
    "print(\"La vitesse minimale en d'entrée en looping semble être de\",-vitesse+0.003,\"m/s\")# La simulation marche , mais avec 0.003m/s d'imprecision\n",
    "print(duration,\"Sec\")\n",
    "\n",
    "plt.plot(t,Vit)\n",
    "plt.show()"
   ]
  }
 ],
 "metadata": {
  "language_info": {
   "name": "python"
  }
 },
 "nbformat": 4,
 "nbformat_minor": 2
}
